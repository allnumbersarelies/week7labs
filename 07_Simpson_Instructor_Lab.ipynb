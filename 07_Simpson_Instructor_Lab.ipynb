{
 "cells": [
  {
   "cell_type": "markdown",
   "id": "0f23198b-bdd4-4d08-9b73-ea6ac654d4a8",
   "metadata": {},
   "source": [
    "# Instructor-led Lab: Manipulating Data\n",
    "\n",
    "\n",
    "  \n",
    "# Instructions:\n",
    "\n",
    "In this assignment you will practice utilizing DataFrames in a program. \n",
    "\n",
    "For this lab, you will use the [github_teams.csv](/data/github_team.csv) which contains behavioral trace data extracted from GitHub.\n",
    "\n",
    "## Accessing Data\n",
    "\n",
    "Using the `github_teams` dataset, please perform the following operations in order:\n",
    "\n",
    "* Open the file within Python.\n",
    "* Find out what the column header names are.\n",
    "* Determine the number of columns.\n",
    "* Determine the number of rows.\n",
    "* Determine which columns are categorical and convert them from *object* to *category*.\n",
    "* How many unique values does `Team_type` have?\n",
    "* How many unique values does `Team_size_class` have?\n",
    "* What is the value of the 63rd row and 6th column?\n",
    "* What are the values for the 300th row?\n",
    "* Using three different methods, select row with index value 595 with 1st, 2nd, 3rd columns.\n",
    "* Using two different methods, select the row with index value 46 with the 3rd and 7th columns.\n",
    "* Create a new DataFrame for the column `bot_work` using two different methods.\n",
    "\n",
    "## Sorting and Ordering data \n",
    "\n",
    "Now that you have learned to subsample data, it is your turn to apply your new knowledge. Using the `github_teams` dataset, please perform the following operations in order:\n",
    "\n",
    "* Select `human-bot` teams that have a `bot_members_count` value greater than and equal to 2.\n",
    "* Find the `human` teams that are `Large` and have a `human_gini` value greater than and equal to 0.75.\n",
    "* How many teams are in the `Small` or `Large` category?\n",
    "* How many teams are in the `Small` or `Large` cateogry with a `human_gini` value less than and equal to 0.20?\n",
    "* How many `human-bot` teams are in the `Medium` category?\n",
    "* Create a subsample of 50% of your data.\n",
    "* Create samples for a 8-fold cross validation test.\n",
    "* Select columns that are numeric and save it as a new DataFrame.\n",
    "* Remove the columns `bot_PRReviewComment` and `bot_MergedPR` from the DataFrame.\n",
    "* Save the columns `Team_size_class` and `human_members_count` as a new DataFrame.\n",
    "* Rename these two columns in the new DataFrame.\n",
    "\n",
    "Save your notebook with output displayed within it and submit for grading."
   ]
  },
  {
   "cell_type": "markdown",
   "id": "ba72700e-4abf-4c42-b18e-b934ad6cbc2f",
   "metadata": {},
   "source": [
    "### Import Modules"
   ]
  },
  {
   "cell_type": "code",
   "execution_count": 109,
   "id": "0a27629b-5666-4f44-bb01-75cd7fc23f34",
   "metadata": {},
   "outputs": [],
   "source": [
    "#Import the various modules into Jupyter Notebook so that they can be used later\n",
    "import os\n",
    "import pandas as pd\n",
    "import numpy as np\n",
    "from sklearn.model_selection import KFold"
   ]
  },
  {
   "cell_type": "markdown",
   "id": "60027e38-f60e-4050-8fa9-1b849b9cde30",
   "metadata": {},
   "source": [
    "Great! We have the various modules imported into Jupyter Notebook! Now we need to read in the two .csv files which contain the necessary data!  \n",
    "\n",
    "### Accessing Data:"
   ]
  },
  {
   "cell_type": "code",
   "execution_count": 5,
   "id": "7fd88b86-2f69-4844-9e01-658e3a2d3946",
   "metadata": {},
   "outputs": [
    {
     "data": {
      "text/plain": [
       "'C:\\\\Users\\\\spencer.simpson\\\\Documents\\\\python_class\\\\week_7'"
      ]
     },
     "execution_count": 5,
     "metadata": {},
     "output_type": "execute_result"
    }
   ],
   "source": [
    "#First, let's go through and find our current working directory, and ensure that we are using the appropriate working directory!\n",
    "os.getcwd()"
   ]
  },
  {
   "cell_type": "markdown",
   "id": "3a9e12db-454b-4291-a570-64eabf9dd29f",
   "metadata": {},
   "source": [
    "Awesome! We can see that the current working directory is the appropriate one with all of the necessary files!  \n",
    "Now, let's read in the data!  \n",
    "\n",
    "There is only one .csv file that needs to be read into Jupyter Notebook, that being the github_teams.csv file. This file can be found in the \"\\data\\\" directory within the \"\\week_7\\\" directory. "
   ]
  },
  {
   "cell_type": "code",
   "execution_count": 15,
   "id": "2bb131c6-2423-40e8-b64a-31cffa6760e2",
   "metadata": {},
   "outputs": [],
   "source": [
    "teams = pd.read_csv('data\\\\github_teams.csv')"
   ]
  },
  {
   "cell_type": "markdown",
   "id": "4cee7f60-aea2-4972-bc34-e584772545a0",
   "metadata": {},
   "source": [
    "Awesomesauce! We now have the .csv file in Jupyter Notebook! Let's begin our work by taking a quick look at the file and find out what the header names are using the '.columns' function!  \n",
    "\n",
    "### Inspect Columns"
   ]
  },
  {
   "cell_type": "code",
   "execution_count": 231,
   "id": "b08bcc30-b8e2-4b8b-8404-9c01e4cd79c8",
   "metadata": {},
   "outputs": [
    {
     "name": "stdout",
     "output_type": "stream",
     "text": [
      "name_h\n",
      "Team_type\n",
      "Team_size_class\n",
      "human_members_count\n",
      "bot_members_count\n",
      "human_work\n",
      "work_per_human\n",
      "human_gini\n",
      "human_Push\n",
      "human_IssueComments\n",
      "human_PRReviewComment\n",
      "human_MergedPR\n",
      "bot_work\n",
      "bot_Push\n",
      "bot_IssueComments\n",
      "bot_PRReviewComment\n",
      "bot_MergedPR\n",
      "eval_survival_day_median\n",
      "issues_count\n"
     ]
    }
   ],
   "source": [
    "for column_name in teams.columns:\n",
    "    print(column_name)"
   ]
  },
  {
   "cell_type": "markdown",
   "id": "3a30540d-1d69-4645-a000-3f6866de9906",
   "metadata": {},
   "source": [
    "Wow! That is a lot of columns. Let's count how many there are!"
   ]
  },
  {
   "cell_type": "code",
   "execution_count": 49,
   "id": "0d10f43d-7b35-4da4-82a0-191f2a6b9a84",
   "metadata": {},
   "outputs": [
    {
     "name": "stdout",
     "output_type": "stream",
     "text": [
      "Number of Columns: 19\n"
     ]
    }
   ],
   "source": [
    "print(f\"Number of Columns: {teams.shape[1]}\") #.Shape returns the height and the width of a dataframe, the index [1] contains the width."
   ]
  },
  {
   "cell_type": "markdown",
   "id": "d6a49732-7f3e-42a7-aa02-e12c692f8011",
   "metadata": {},
   "source": [
    "Now we know that there are 19 different columns within the teams dataframe. Why don't we now take a look at the height of the dataframe to figure out how many rows there are?"
   ]
  },
  {
   "cell_type": "code",
   "execution_count": 51,
   "id": "41a9c45e-3366-4e76-bd03-d4f9cef8204a",
   "metadata": {},
   "outputs": [
    {
     "name": "stdout",
     "output_type": "stream",
     "text": [
      "Number of Rows: 608\n"
     ]
    }
   ],
   "source": [
    "print(f\"Number of Rows: {teams.shape[0]}\") #.shape returns the height and the width of a dataframe, the index [0] contains the height."
   ]
  },
  {
   "cell_type": "markdown",
   "id": "5a5820c9-35b3-4489-af57-db85be471049",
   "metadata": {},
   "source": [
    "There are 608 rows within the teams dataframe.  \n",
    "\n",
    "Now that we have an idea of the size of the teams dataframe, why don't we take a closer look at the columns and what type they are? "
   ]
  },
  {
   "cell_type": "code",
   "execution_count": 63,
   "id": "b7870a57-c579-4696-bfeb-1ea133d3f728",
   "metadata": {},
   "outputs": [
    {
     "name": "stdout",
     "output_type": "stream",
     "text": [
      "<class 'pandas.core.frame.DataFrame'>\n",
      "RangeIndex: 608 entries, 0 to 607\n",
      "Data columns (total 19 columns):\n",
      " #   Column                    Non-Null Count  Dtype  \n",
      "---  ------                    --------------  -----  \n",
      " 0   name_h                    608 non-null    object \n",
      " 1   Team_type                 608 non-null    object \n",
      " 2   Team_size_class           608 non-null    object \n",
      " 3   human_members_count       608 non-null    int64  \n",
      " 4   bot_members_count         608 non-null    int64  \n",
      " 5   human_work                608 non-null    int64  \n",
      " 6   work_per_human            608 non-null    float64\n",
      " 7   human_gini                608 non-null    float64\n",
      " 8   human_Push                608 non-null    int64  \n",
      " 9   human_IssueComments       608 non-null    int64  \n",
      " 10  human_PRReviewComment     608 non-null    int64  \n",
      " 11  human_MergedPR            608 non-null    int64  \n",
      " 12  bot_work                  608 non-null    int64  \n",
      " 13  bot_Push                  608 non-null    int64  \n",
      " 14  bot_IssueComments         608 non-null    int64  \n",
      " 15  bot_PRReviewComment       608 non-null    int64  \n",
      " 16  bot_MergedPR              608 non-null    int64  \n",
      " 17  eval_survival_day_median  303 non-null    float64\n",
      " 18  issues_count              303 non-null    float64\n",
      "dtypes: float64(4), int64(12), object(3)\n",
      "memory usage: 90.4+ KB\n"
     ]
    }
   ],
   "source": [
    "teams.info()"
   ]
  },
  {
   "cell_type": "markdown",
   "id": "59a4de88-e8a9-4ee2-9605-fcb3f46f7dec",
   "metadata": {},
   "source": [
    "Above we can see the 19 different columns in the teams dataframe. On the left-hand side we can see the names of the columns, and on the right we can see the data types for each individual column. We can see that there are three different categorical columns: 'name_h', 'Team_type', and 'Team_size_class'. Let's now address them properly by changing the data type over from 'object' to 'category'."
   ]
  },
  {
   "cell_type": "code",
   "execution_count": 73,
   "id": "57361e78-16bd-4f8c-a865-886319e450fc",
   "metadata": {},
   "outputs": [
    {
     "name": "stdout",
     "output_type": "stream",
     "text": [
      "<class 'pandas.core.frame.DataFrame'>\n",
      "RangeIndex: 608 entries, 0 to 607\n",
      "Data columns (total 19 columns):\n",
      " #   Column                    Non-Null Count  Dtype   \n",
      "---  ------                    --------------  -----   \n",
      " 0   name_h                    608 non-null    category\n",
      " 1   Team_type                 608 non-null    category\n",
      " 2   Team_size_class           608 non-null    category\n",
      " 3   human_members_count       608 non-null    int64   \n",
      " 4   bot_members_count         608 non-null    int64   \n",
      " 5   human_work                608 non-null    int64   \n",
      " 6   work_per_human            608 non-null    float64 \n",
      " 7   human_gini                608 non-null    float64 \n",
      " 8   human_Push                608 non-null    int64   \n",
      " 9   human_IssueComments       608 non-null    int64   \n",
      " 10  human_PRReviewComment     608 non-null    int64   \n",
      " 11  human_MergedPR            608 non-null    int64   \n",
      " 12  bot_work                  608 non-null    int64   \n",
      " 13  bot_Push                  608 non-null    int64   \n",
      " 14  bot_IssueComments         608 non-null    int64   \n",
      " 15  bot_PRReviewComment       608 non-null    int64   \n",
      " 16  bot_MergedPR              608 non-null    int64   \n",
      " 17  eval_survival_day_median  303 non-null    float64 \n",
      " 18  issues_count              303 non-null    float64 \n",
      "dtypes: category(3), float64(4), int64(12)\n",
      "memory usage: 99.7 KB\n"
     ]
    }
   ],
   "source": [
    "# We need to go through the three different categorical columns and convert them to the 'category' data type\n",
    "\n",
    "teams['name_h'] = teams['name_h'].astype('category')\n",
    "teams['Team_type'] = teams['Team_type'].astype('category')\n",
    "teams['Team_size_class'] = teams['Team_size_class'].astype('category')\n",
    "\n",
    "# Now that let's confirm the changes to our data frame\n",
    "\n",
    "teams.info()"
   ]
  },
  {
   "cell_type": "markdown",
   "id": "ab059892-1b3f-4fd2-81e5-8d5fdcfbc19a",
   "metadata": {},
   "source": [
    "Sweet! Our three categorical variables have succesfully been converted to the 'category' data type!  \n",
    "Now let's go through and see how many unique values the 'Team_type' and 'Team_size_class' columnes have!"
   ]
  },
  {
   "cell_type": "code",
   "execution_count": 83,
   "id": "e4253d61-9d40-41c5-be51-6ca8fb882b0a",
   "metadata": {},
   "outputs": [
    {
     "data": {
      "text/plain": [
       "['human-bot', 'human']\n",
       "Categories (2, object): ['human', 'human-bot']"
      ]
     },
     "execution_count": 83,
     "metadata": {},
     "output_type": "execute_result"
    }
   ],
   "source": [
    "teams.Team_type.unique()  "
   ]
  },
  {
   "cell_type": "markdown",
   "id": "4297be5f-5ab6-45ff-9b98-e3bc7371765b",
   "metadata": {},
   "source": [
    "We can see that there are two different unique values in the 'Team_type' variable. Now how many unique values does the 'Team_size_class' column contain?"
   ]
  },
  {
   "cell_type": "code",
   "execution_count": 85,
   "id": "627fc7b6-6b1d-49cf-8de2-0e808131db36",
   "metadata": {},
   "outputs": [
    {
     "data": {
      "text/plain": [
       "['Small', 'Large', 'Medium']\n",
       "Categories (3, object): ['Large', 'Medium', 'Small']"
      ]
     },
     "execution_count": 85,
     "metadata": {},
     "output_type": "execute_result"
    }
   ],
   "source": [
    "teams.Team_size_class.unique()"
   ]
  },
  {
   "cell_type": "markdown",
   "id": "e7b471a5-b263-4a01-a238-0edfcf765205",
   "metadata": {},
   "source": [
    "Sweet! There are three different unique values in the 'Team_size_class' column.  \n",
    "Now that we have gone through and looked at the shape of the dataframe, the columns names, changed data types, and counted unique values; let's now play around with some indexing.  \n",
    "First value we need to find is the 63rd row in the 6th column:"
   ]
  },
  {
   "cell_type": "code",
   "execution_count": 115,
   "id": "059fae4d-d8a2-4014-aa96-c05e778ccc43",
   "metadata": {},
   "outputs": [
    {
     "data": {
      "text/plain": [
       "35"
      ]
     },
     "execution_count": 115,
     "metadata": {},
     "output_type": "execute_result"
    }
   ],
   "source": [
    "teams.iloc[62, 5]"
   ]
  },
  {
   "cell_type": "markdown",
   "id": "aab4c72c-f359-488f-812c-3f6991d6ae45",
   "metadata": {},
   "source": [
    "Now, let's print out the values that are in row 300:"
   ]
  },
  {
   "cell_type": "code",
   "execution_count": 123,
   "id": "a7c6382c-3b75-43cb-b343-f50dd8e9164f",
   "metadata": {},
   "outputs": [
    {
     "data": {
      "text/html": [
       "<div>\n",
       "<style scoped>\n",
       "    .dataframe tbody tr th:only-of-type {\n",
       "        vertical-align: middle;\n",
       "    }\n",
       "\n",
       "    .dataframe tbody tr th {\n",
       "        vertical-align: top;\n",
       "    }\n",
       "\n",
       "    .dataframe thead th {\n",
       "        text-align: right;\n",
       "    }\n",
       "</style>\n",
       "<table border=\"1\" class=\"dataframe\">\n",
       "  <thead>\n",
       "    <tr style=\"text-align: right;\">\n",
       "      <th></th>\n",
       "      <th>name_h</th>\n",
       "      <th>Team_type</th>\n",
       "      <th>Team_size_class</th>\n",
       "      <th>human_members_count</th>\n",
       "      <th>bot_members_count</th>\n",
       "      <th>human_work</th>\n",
       "      <th>work_per_human</th>\n",
       "      <th>human_gini</th>\n",
       "      <th>human_Push</th>\n",
       "      <th>human_IssueComments</th>\n",
       "      <th>human_PRReviewComment</th>\n",
       "      <th>human_MergedPR</th>\n",
       "      <th>bot_work</th>\n",
       "      <th>bot_Push</th>\n",
       "      <th>bot_IssueComments</th>\n",
       "      <th>bot_PRReviewComment</th>\n",
       "      <th>bot_MergedPR</th>\n",
       "      <th>eval_survival_day_median</th>\n",
       "      <th>issues_count</th>\n",
       "    </tr>\n",
       "  </thead>\n",
       "  <tbody>\n",
       "    <tr>\n",
       "      <th>299</th>\n",
       "      <td>IyfocAGfAHLncCVJUujqTA/A_QZ6HlUb5sRQHhPa7SGzQ</td>\n",
       "      <td>human-bot</td>\n",
       "      <td>Medium</td>\n",
       "      <td>4</td>\n",
       "      <td>1</td>\n",
       "      <td>1049</td>\n",
       "      <td>262.25</td>\n",
       "      <td>0.448761</td>\n",
       "      <td>739</td>\n",
       "      <td>213</td>\n",
       "      <td>91</td>\n",
       "      <td>6</td>\n",
       "      <td>52</td>\n",
       "      <td>0</td>\n",
       "      <td>52</td>\n",
       "      <td>0</td>\n",
       "      <td>0</td>\n",
       "      <td>27.0</td>\n",
       "      <td>243.0</td>\n",
       "    </tr>\n",
       "  </tbody>\n",
       "</table>\n",
       "</div>"
      ],
      "text/plain": [
       "                                            name_h  Team_type Team_size_class  \\\n",
       "299  IyfocAGfAHLncCVJUujqTA/A_QZ6HlUb5sRQHhPa7SGzQ  human-bot          Medium   \n",
       "\n",
       "     human_members_count  bot_members_count  human_work  work_per_human  \\\n",
       "299                    4                  1        1049          262.25   \n",
       "\n",
       "     human_gini  human_Push  human_IssueComments  human_PRReviewComment  \\\n",
       "299    0.448761         739                  213                     91   \n",
       "\n",
       "     human_MergedPR  bot_work  bot_Push  bot_IssueComments  \\\n",
       "299               6        52         0                 52   \n",
       "\n",
       "     bot_PRReviewComment  bot_MergedPR  eval_survival_day_median  issues_count  \n",
       "299                    0             0                      27.0         243.0  "
      ]
     },
     "execution_count": 123,
     "metadata": {},
     "output_type": "execute_result"
    }
   ],
   "source": [
    "teams.iloc[299:300]"
   ]
  },
  {
   "cell_type": "markdown",
   "id": "530ba3fb-7020-44cb-93d8-7dbec455d54a",
   "metadata": {},
   "source": [
    "### Note: Indexing is offset by 1, meaning that the actual value is +1 of the displayed value. This can be seen in the 300th row. Since the rows start at index 0, the 300th row will be displayed as row 299."
   ]
  },
  {
   "cell_type": "markdown",
   "id": "481b9e6d-a3e9-4f89-bd0e-f83c083e4340",
   "metadata": {},
   "source": [
    "Great! Now that we have gone over the basics of indexing, let's now go into different methods for selecting certain values in a data frame.  \n",
    "For the first section, we will use three different methods to select row with index value 595 with 1st, 2nd, 3rd columns."
   ]
  },
  {
   "cell_type": "code",
   "execution_count": 145,
   "id": "2143c1d4-c721-45bf-b04f-5eed34e408bd",
   "metadata": {},
   "outputs": [
    {
     "data": {
      "text/plain": [
       "name_h             zAh1NECRCquqUJ_-1d6hAw/DET3jTK8hokYfY_neJ1IVQ\n",
       "Team_type                                              human-bot\n",
       "Team_size_class                                            Small\n",
       "Name: 595, dtype: object"
      ]
     },
     "execution_count": 145,
     "metadata": {},
     "output_type": "execute_result"
    }
   ],
   "source": [
    "teams.iloc[595, 0:3]"
   ]
  },
  {
   "cell_type": "code",
   "execution_count": 147,
   "id": "58e72189-6fe5-4008-8c5a-35c1c60fd811",
   "metadata": {},
   "outputs": [
    {
     "data": {
      "text/plain": [
       "name_h             zAh1NECRCquqUJ_-1d6hAw/DET3jTK8hokYfY_neJ1IVQ\n",
       "Team_type                                              human-bot\n",
       "Team_size_class                                            Small\n",
       "Name: 595, dtype: object"
      ]
     },
     "execution_count": 147,
     "metadata": {},
     "output_type": "execute_result"
    }
   ],
   "source": [
    "teams.loc[595, 'name_h':'Team_size_class']"
   ]
  },
  {
   "cell_type": "code",
   "execution_count": 207,
   "id": "50b56609-8c75-48f1-9db6-f46a0485bb93",
   "metadata": {},
   "outputs": [
    {
     "data": {
      "text/plain": [
       "name_h             zAh1NECRCquqUJ_-1d6hAw/DET3jTK8hokYfY_neJ1IVQ\n",
       "Team_type                                              human-bot\n",
       "Team_size_class                                            Small\n",
       "Name: 595, dtype: object"
      ]
     },
     "execution_count": 207,
     "metadata": {},
     "output_type": "execute_result"
    }
   ],
   "source": [
    "teams_category = teams.select_dtypes(include = ['category'])\n",
    "teams_category.iloc[595,:]"
   ]
  },
  {
   "cell_type": "markdown",
   "id": "e93191c3-709a-46b5-adc1-e6ac415fb7a0",
   "metadata": {},
   "source": [
    "Great! Now we have selected specific values using three different methods!  \n",
    "Let's now continue by using two different methods to select the row with index value 46 with the 3rd and 7th columns."
   ]
  },
  {
   "cell_type": "code",
   "execution_count": 227,
   "id": "143e7fb5-4b41-461c-b740-7eae9a969d56",
   "metadata": {},
   "outputs": [
    {
     "data": {
      "text/plain": [
       "human_members_count           6\n",
       "human_gini             0.506981\n",
       "Name: 46, dtype: object"
      ]
     },
     "execution_count": 227,
     "metadata": {},
     "output_type": "execute_result"
    }
   ],
   "source": [
    "teams.loc[46, ['human_members_count','human_gini']]"
   ]
  },
  {
   "cell_type": "code",
   "execution_count": 229,
   "id": "8123234b-77e2-4d3c-a7a1-59bafb2e00ad",
   "metadata": {},
   "outputs": [
    {
     "data": {
      "text/plain": [
       "human_members_count           6\n",
       "human_gini             0.506981\n",
       "Name: 46, dtype: object"
      ]
     },
     "execution_count": 229,
     "metadata": {},
     "output_type": "execute_result"
    }
   ],
   "source": [
    "teams.iloc[46, [3,7]]"
   ]
  },
  {
   "cell_type": "markdown",
   "id": "c029e69e-bff2-4a4d-a59c-f1c5cb33ae5e",
   "metadata": {},
   "source": [
    "Awesome! Now that we know how to access the data, let's now go an create a dataframe using two different methods!"
   ]
  },
  {
   "cell_type": "markdown",
   "id": "32be8537-9400-4db8-ae4c-716e171f97d8",
   "metadata": {},
   "source": [
    "### Create New DataFrame"
   ]
  },
  {
   "cell_type": "code",
   "execution_count": 251,
   "id": "b4380e92-80b3-4733-924e-7506914565f6",
   "metadata": {},
   "outputs": [
    {
     "data": {
      "text/plain": [
       "pandas.core.frame.DataFrame"
      ]
     },
     "execution_count": 251,
     "metadata": {},
     "output_type": "execute_result"
    }
   ],
   "source": [
    "just_bot_work = pd.DataFrame(teams.bot_work)\n",
    "type(just_bot_work)"
   ]
  },
  {
   "cell_type": "code",
   "execution_count": 249,
   "id": "e00894e1-e81b-4f5e-819d-f34a4ce3b826",
   "metadata": {},
   "outputs": [
    {
     "data": {
      "text/plain": [
       "pandas.core.frame.DataFrame"
      ]
     },
     "execution_count": 249,
     "metadata": {},
     "output_type": "execute_result"
    }
   ],
   "source": [
    "only_bot_work = teams.filter(like = 'bot_work')\n",
    "type(only_bot_work)"
   ]
  },
  {
   "cell_type": "markdown",
   "id": "bcea6d4c-c6e1-49b5-8b06-b8d4dee27cc8",
   "metadata": {},
   "source": [
    "### References\n",
    "\n",
    "https://www.geeksforgeeks.org/python-subset-dataframe-by-column-name/#"
   ]
  }
 ],
 "metadata": {
  "kernelspec": {
   "display_name": "Python [conda env:base] *",
   "language": "python",
   "name": "conda-base-py"
  },
  "language_info": {
   "codemirror_mode": {
    "name": "ipython",
    "version": 3
   },
   "file_extension": ".py",
   "mimetype": "text/x-python",
   "name": "python",
   "nbconvert_exporter": "python",
   "pygments_lexer": "ipython3",
   "version": "3.12.7"
  }
 },
 "nbformat": 4,
 "nbformat_minor": 5
}
